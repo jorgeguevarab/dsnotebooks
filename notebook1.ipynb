{
 "cells": [
  {
   "cell_type": "code",
   "execution_count": 10,
   "metadata": {},
   "outputs": [],
   "source": [
    "import pandas as pd\n",
    "import matplotlib.pyplot as plt\n",
    "import numpy as np\n",
    "\n",
    "df = pd.read_csv('data/United States_US.csv')\n"
   ]
  },
  {
   "cell_type": "code",
   "execution_count": 4,
   "metadata": {},
   "outputs": [
    {
     "data": {
      "text/html": [
       "<div>\n",
       "<style scoped>\n",
       "    .dataframe tbody tr th:only-of-type {\n",
       "        vertical-align: middle;\n",
       "    }\n",
       "\n",
       "    .dataframe tbody tr th {\n",
       "        vertical-align: top;\n",
       "    }\n",
       "\n",
       "    .dataframe thead th {\n",
       "        text-align: right;\n",
       "    }\n",
       "</style>\n",
       "<table border=\"1\" class=\"dataframe\">\n",
       "  <thead>\n",
       "    <tr style=\"text-align: right;\">\n",
       "      <th></th>\n",
       "      <th>Date</th>\n",
       "      <th>Name</th>\n",
       "      <th>Type</th>\n",
       "      <th>Country Name</th>\n",
       "      <th>Country Code</th>\n",
       "    </tr>\n",
       "  </thead>\n",
       "  <tbody>\n",
       "    <tr>\n",
       "      <th>0</th>\n",
       "      <td>2023-01-01</td>\n",
       "      <td>New Year's Day</td>\n",
       "      <td>['Local holiday']</td>\n",
       "      <td>United States</td>\n",
       "      <td>US</td>\n",
       "    </tr>\n",
       "    <tr>\n",
       "      <th>1</th>\n",
       "      <td>2023-01-01</td>\n",
       "      <td>New Year's Day</td>\n",
       "      <td>['Local holiday']</td>\n",
       "      <td>United States</td>\n",
       "      <td>US</td>\n",
       "    </tr>\n",
       "    <tr>\n",
       "      <th>2</th>\n",
       "      <td>2023-01-01</td>\n",
       "      <td>New Year's Day</td>\n",
       "      <td>['Local holiday']</td>\n",
       "      <td>United States</td>\n",
       "      <td>US</td>\n",
       "    </tr>\n",
       "    <tr>\n",
       "      <th>3</th>\n",
       "      <td>2023-01-01</td>\n",
       "      <td>New Year's Day</td>\n",
       "      <td>['Local holiday']</td>\n",
       "      <td>United States</td>\n",
       "      <td>US</td>\n",
       "    </tr>\n",
       "    <tr>\n",
       "      <th>4</th>\n",
       "      <td>2023-01-01</td>\n",
       "      <td>New Year's Day</td>\n",
       "      <td>['National holiday']</td>\n",
       "      <td>United States</td>\n",
       "      <td>US</td>\n",
       "    </tr>\n",
       "    <tr>\n",
       "      <th>5</th>\n",
       "      <td>2023-01-02</td>\n",
       "      <td>New Year's Day (substitute)</td>\n",
       "      <td>['Local holiday']</td>\n",
       "      <td>United States</td>\n",
       "      <td>US</td>\n",
       "    </tr>\n",
       "    <tr>\n",
       "      <th>6</th>\n",
       "      <td>2023-01-02</td>\n",
       "      <td>New Year's Day (substitute)</td>\n",
       "      <td>['National holiday']</td>\n",
       "      <td>United States</td>\n",
       "      <td>US</td>\n",
       "    </tr>\n",
       "    <tr>\n",
       "      <th>7</th>\n",
       "      <td>2023-01-02</td>\n",
       "      <td>New Year's Day (substitute)</td>\n",
       "      <td>['Local holiday']</td>\n",
       "      <td>United States</td>\n",
       "      <td>US</td>\n",
       "    </tr>\n",
       "    <tr>\n",
       "      <th>8</th>\n",
       "      <td>2023-01-02</td>\n",
       "      <td>New Year's Day (substitute)</td>\n",
       "      <td>['Local holiday']</td>\n",
       "      <td>United States</td>\n",
       "      <td>US</td>\n",
       "    </tr>\n",
       "    <tr>\n",
       "      <th>9</th>\n",
       "      <td>2023-01-03</td>\n",
       "      <td>Asarah B'Tevet</td>\n",
       "      <td>['Hebrew']</td>\n",
       "      <td>United States</td>\n",
       "      <td>US</td>\n",
       "    </tr>\n",
       "  </tbody>\n",
       "</table>\n",
       "</div>"
      ],
      "text/plain": [
       "         Date                         Name                  Type  \\\n",
       "0  2023-01-01               New Year's Day     ['Local holiday']   \n",
       "1  2023-01-01               New Year's Day     ['Local holiday']   \n",
       "2  2023-01-01               New Year's Day     ['Local holiday']   \n",
       "3  2023-01-01               New Year's Day     ['Local holiday']   \n",
       "4  2023-01-01               New Year's Day  ['National holiday']   \n",
       "5  2023-01-02  New Year's Day (substitute)     ['Local holiday']   \n",
       "6  2023-01-02  New Year's Day (substitute)  ['National holiday']   \n",
       "7  2023-01-02  New Year's Day (substitute)     ['Local holiday']   \n",
       "8  2023-01-02  New Year's Day (substitute)     ['Local holiday']   \n",
       "9  2023-01-03               Asarah B'Tevet            ['Hebrew']   \n",
       "\n",
       "    Country Name Country Code  \n",
       "0  United States           US  \n",
       "1  United States           US  \n",
       "2  United States           US  \n",
       "3  United States           US  \n",
       "4  United States           US  \n",
       "5  United States           US  \n",
       "6  United States           US  \n",
       "7  United States           US  \n",
       "8  United States           US  \n",
       "9  United States           US  "
      ]
     },
     "execution_count": 4,
     "metadata": {},
     "output_type": "execute_result"
    }
   ],
   "source": [
    "df.head(10)\n"
   ]
  },
  {
   "cell_type": "code",
   "execution_count": 5,
   "metadata": {},
   "outputs": [
    {
     "data": {
      "text/plain": [
       "<bound method IndexOpsMixin.value_counts of 0                  ['Local holiday']\n",
       "1                  ['Local holiday']\n",
       "2                  ['Local holiday']\n",
       "3                  ['Local holiday']\n",
       "4               ['National holiday']\n",
       "                   ...              \n",
       "627                ['Local holiday']\n",
       "628                ['Local holiday']\n",
       "629    ['United Nations observance']\n",
       "630                   ['Observance']\n",
       "631                ['Local holiday']\n",
       "Name: Type, Length: 632, dtype: object>"
      ]
     },
     "execution_count": 5,
     "metadata": {},
     "output_type": "execute_result"
    }
   ],
   "source": [
    "df.Type.value_counts"
   ]
  },
  {
   "cell_type": "code",
   "execution_count": 15,
   "metadata": {},
   "outputs": [],
   "source": [
    "types = np.array(df.Type.value_counts)"
   ]
  },
  {
   "cell_type": "code",
   "execution_count": null,
   "metadata": {},
   "outputs": [],
   "source": []
  }
 ],
 "metadata": {
  "kernelspec": {
   "display_name": "Python 3",
   "language": "python",
   "name": "python3"
  },
  "language_info": {
   "codemirror_mode": {
    "name": "ipython",
    "version": 3
   },
   "file_extension": ".py",
   "mimetype": "text/x-python",
   "name": "python",
   "nbconvert_exporter": "python",
   "pygments_lexer": "ipython3",
   "version": "3.10.13"
  }
 },
 "nbformat": 4,
 "nbformat_minor": 2
}
